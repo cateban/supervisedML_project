{
 "cells": [
  {
   "cell_type": "code",
   "execution_count": 1,
   "metadata": {},
   "outputs": [],
   "source": [
    "import pandas as pd\n",
    "import numpy as np\n",
    "import matplotlib.pyplot as plt"
   ]
  },
  {
   "cell_type": "code",
   "execution_count": 2,
   "metadata": {},
   "outputs": [],
   "source": [
    "test = pd.read_csv('solar_test.csv')\n",
    "train = pd.read_csv('solar_train.csv')\n",
    "ejemplo = pd.read_csv('submission_example.csv')"
   ]
  },
  {
   "cell_type": "code",
   "execution_count": 3,
   "metadata": {},
   "outputs": [
    {
     "data": {
      "text/html": [
       "<div>\n",
       "<style scoped>\n",
       "    .dataframe tbody tr th:only-of-type {\n",
       "        vertical-align: middle;\n",
       "    }\n",
       "\n",
       "    .dataframe tbody tr th {\n",
       "        vertical-align: top;\n",
       "    }\n",
       "\n",
       "    .dataframe thead th {\n",
       "        text-align: right;\n",
       "    }\n",
       "</style>\n",
       "<table border=\"1\" class=\"dataframe\">\n",
       "  <thead>\n",
       "    <tr style=\"text-align: right;\">\n",
       "      <th></th>\n",
       "      <th>id</th>\n",
       "      <th>UNIXTime</th>\n",
       "      <th>Data</th>\n",
       "      <th>Time</th>\n",
       "      <th>Temperature</th>\n",
       "      <th>Pressure</th>\n",
       "      <th>Humidity</th>\n",
       "      <th>WindDirection(Degrees)</th>\n",
       "      <th>Speed</th>\n",
       "      <th>TimeSunRise</th>\n",
       "      <th>TimeSunSet</th>\n",
       "    </tr>\n",
       "  </thead>\n",
       "  <tbody>\n",
       "    <tr>\n",
       "      <th>0</th>\n",
       "      <td>0</td>\n",
       "      <td>1478720107</td>\n",
       "      <td>11/9/2016 12:00:00 AM</td>\n",
       "      <td>09:35:07</td>\n",
       "      <td>59</td>\n",
       "      <td>30.47</td>\n",
       "      <td>44</td>\n",
       "      <td>312.67</td>\n",
       "      <td>3.37</td>\n",
       "      <td>06:28:00</td>\n",
       "      <td>17:45:00</td>\n",
       "    </tr>\n",
       "    <tr>\n",
       "      <th>1</th>\n",
       "      <td>1</td>\n",
       "      <td>1474063503</td>\n",
       "      <td>9/16/2016 12:00:00 AM</td>\n",
       "      <td>12:05:03</td>\n",
       "      <td>59</td>\n",
       "      <td>30.48</td>\n",
       "      <td>83</td>\n",
       "      <td>38.01</td>\n",
       "      <td>6.75</td>\n",
       "      <td>06:10:00</td>\n",
       "      <td>18:25:00</td>\n",
       "    </tr>\n",
       "    <tr>\n",
       "      <th>2</th>\n",
       "      <td>2</td>\n",
       "      <td>1476109221</td>\n",
       "      <td>10/10/2016 12:00:00 AM</td>\n",
       "      <td>04:20:21</td>\n",
       "      <td>47</td>\n",
       "      <td>30.39</td>\n",
       "      <td>78</td>\n",
       "      <td>213.62</td>\n",
       "      <td>5.62</td>\n",
       "      <td>06:16:00</td>\n",
       "      <td>18:03:00</td>\n",
       "    </tr>\n",
       "    <tr>\n",
       "      <th>3</th>\n",
       "      <td>3</td>\n",
       "      <td>1481475056</td>\n",
       "      <td>12/11/2016 12:00:00 AM</td>\n",
       "      <td>06:50:56</td>\n",
       "      <td>45</td>\n",
       "      <td>30.40</td>\n",
       "      <td>98</td>\n",
       "      <td>176.63</td>\n",
       "      <td>4.50</td>\n",
       "      <td>06:47:00</td>\n",
       "      <td>17:44:00</td>\n",
       "    </tr>\n",
       "    <tr>\n",
       "      <th>4</th>\n",
       "      <td>4</td>\n",
       "      <td>1477493117</td>\n",
       "      <td>10/26/2016 12:00:00 AM</td>\n",
       "      <td>04:45:17</td>\n",
       "      <td>45</td>\n",
       "      <td>30.40</td>\n",
       "      <td>34</td>\n",
       "      <td>175.89</td>\n",
       "      <td>6.75</td>\n",
       "      <td>06:21:00</td>\n",
       "      <td>17:52:00</td>\n",
       "    </tr>\n",
       "  </tbody>\n",
       "</table>\n",
       "</div>"
      ],
      "text/plain": [
       "   id    UNIXTime                    Data      Time  Temperature  Pressure  \\\n",
       "0   0  1478720107   11/9/2016 12:00:00 AM  09:35:07           59     30.47   \n",
       "1   1  1474063503   9/16/2016 12:00:00 AM  12:05:03           59     30.48   \n",
       "2   2  1476109221  10/10/2016 12:00:00 AM  04:20:21           47     30.39   \n",
       "3   3  1481475056  12/11/2016 12:00:00 AM  06:50:56           45     30.40   \n",
       "4   4  1477493117  10/26/2016 12:00:00 AM  04:45:17           45     30.40   \n",
       "\n",
       "   Humidity  WindDirection(Degrees)  Speed TimeSunRise TimeSunSet  \n",
       "0        44                  312.67   3.37    06:28:00   17:45:00  \n",
       "1        83                   38.01   6.75    06:10:00   18:25:00  \n",
       "2        78                  213.62   5.62    06:16:00   18:03:00  \n",
       "3        98                  176.63   4.50    06:47:00   17:44:00  \n",
       "4        34                  175.89   6.75    06:21:00   17:52:00  "
      ]
     },
     "execution_count": 3,
     "metadata": {},
     "output_type": "execute_result"
    }
   ],
   "source": [
    "test.head()"
   ]
  },
  {
   "cell_type": "code",
   "execution_count": 4,
   "metadata": {},
   "outputs": [
    {
     "data": {
      "text/html": [
       "<div>\n",
       "<style scoped>\n",
       "    .dataframe tbody tr th:only-of-type {\n",
       "        vertical-align: middle;\n",
       "    }\n",
       "\n",
       "    .dataframe tbody tr th {\n",
       "        vertical-align: top;\n",
       "    }\n",
       "\n",
       "    .dataframe thead th {\n",
       "        text-align: right;\n",
       "    }\n",
       "</style>\n",
       "<table border=\"1\" class=\"dataframe\">\n",
       "  <thead>\n",
       "    <tr style=\"text-align: right;\">\n",
       "      <th></th>\n",
       "      <th>UNIXTime</th>\n",
       "      <th>Data</th>\n",
       "      <th>Time</th>\n",
       "      <th>Radiation</th>\n",
       "      <th>Temperature</th>\n",
       "      <th>Pressure</th>\n",
       "      <th>Humidity</th>\n",
       "      <th>WindDirection(Degrees)</th>\n",
       "      <th>Speed</th>\n",
       "      <th>TimeSunRise</th>\n",
       "      <th>TimeSunSet</th>\n",
       "    </tr>\n",
       "  </thead>\n",
       "  <tbody>\n",
       "    <tr>\n",
       "      <th>0</th>\n",
       "      <td>1475175023</td>\n",
       "      <td>9/29/2016 12:00:00 AM</td>\n",
       "      <td>08:50:23</td>\n",
       "      <td>634.99</td>\n",
       "      <td>61</td>\n",
       "      <td>30.46</td>\n",
       "      <td>41</td>\n",
       "      <td>14.96</td>\n",
       "      <td>6.75</td>\n",
       "      <td>06:13:00</td>\n",
       "      <td>18:13:00</td>\n",
       "    </tr>\n",
       "    <tr>\n",
       "      <th>1</th>\n",
       "      <td>1481799902</td>\n",
       "      <td>12/15/2016 12:00:00 AM</td>\n",
       "      <td>01:05:02</td>\n",
       "      <td>1.27</td>\n",
       "      <td>37</td>\n",
       "      <td>30.26</td>\n",
       "      <td>70</td>\n",
       "      <td>207.43</td>\n",
       "      <td>5.62</td>\n",
       "      <td>06:50:00</td>\n",
       "      <td>17:46:00</td>\n",
       "    </tr>\n",
       "    <tr>\n",
       "      <th>2</th>\n",
       "      <td>1478339417</td>\n",
       "      <td>11/4/2016 12:00:00 AM</td>\n",
       "      <td>23:50:17</td>\n",
       "      <td>1.21</td>\n",
       "      <td>47</td>\n",
       "      <td>30.49</td>\n",
       "      <td>33</td>\n",
       "      <td>168.20</td>\n",
       "      <td>5.62</td>\n",
       "      <td>06:25:00</td>\n",
       "      <td>17:47:00</td>\n",
       "    </tr>\n",
       "    <tr>\n",
       "      <th>3</th>\n",
       "      <td>1472887208</td>\n",
       "      <td>9/2/2016 12:00:00 AM</td>\n",
       "      <td>21:20:08</td>\n",
       "      <td>1.67</td>\n",
       "      <td>54</td>\n",
       "      <td>30.46</td>\n",
       "      <td>101</td>\n",
       "      <td>152.60</td>\n",
       "      <td>3.37</td>\n",
       "      <td>06:07:00</td>\n",
       "      <td>18:37:00</td>\n",
       "    </tr>\n",
       "    <tr>\n",
       "      <th>4</th>\n",
       "      <td>1478724901</td>\n",
       "      <td>11/9/2016 12:00:00 AM</td>\n",
       "      <td>10:55:01</td>\n",
       "      <td>839.78</td>\n",
       "      <td>62</td>\n",
       "      <td>30.47</td>\n",
       "      <td>36</td>\n",
       "      <td>291.95</td>\n",
       "      <td>7.87</td>\n",
       "      <td>06:28:00</td>\n",
       "      <td>17:45:00</td>\n",
       "    </tr>\n",
       "  </tbody>\n",
       "</table>\n",
       "</div>"
      ],
      "text/plain": [
       "     UNIXTime                    Data      Time  Radiation  Temperature  \\\n",
       "0  1475175023   9/29/2016 12:00:00 AM  08:50:23     634.99           61   \n",
       "1  1481799902  12/15/2016 12:00:00 AM  01:05:02       1.27           37   \n",
       "2  1478339417   11/4/2016 12:00:00 AM  23:50:17       1.21           47   \n",
       "3  1472887208    9/2/2016 12:00:00 AM  21:20:08       1.67           54   \n",
       "4  1478724901   11/9/2016 12:00:00 AM  10:55:01     839.78           62   \n",
       "\n",
       "   Pressure  Humidity  WindDirection(Degrees)  Speed TimeSunRise TimeSunSet  \n",
       "0     30.46        41                   14.96   6.75    06:13:00   18:13:00  \n",
       "1     30.26        70                  207.43   5.62    06:50:00   17:46:00  \n",
       "2     30.49        33                  168.20   5.62    06:25:00   17:47:00  \n",
       "3     30.46       101                  152.60   3.37    06:07:00   18:37:00  \n",
       "4     30.47        36                  291.95   7.87    06:28:00   17:45:00  "
      ]
     },
     "execution_count": 4,
     "metadata": {},
     "output_type": "execute_result"
    }
   ],
   "source": [
    "train.head()"
   ]
  },
  {
   "cell_type": "code",
   "execution_count": 5,
   "metadata": {},
   "outputs": [
    {
     "name": "stdout",
     "output_type": "stream",
     "text": [
      "<class 'pandas.core.frame.DataFrame'>\n",
      "RangeIndex: 24514 entries, 0 to 24513\n",
      "Data columns (total 11 columns):\n",
      " #   Column                  Non-Null Count  Dtype  \n",
      "---  ------                  --------------  -----  \n",
      " 0   UNIXTime                24514 non-null  int64  \n",
      " 1   Data                    24514 non-null  object \n",
      " 2   Time                    24514 non-null  object \n",
      " 3   Radiation               24514 non-null  float64\n",
      " 4   Temperature             24514 non-null  int64  \n",
      " 5   Pressure                24514 non-null  float64\n",
      " 6   Humidity                24514 non-null  int64  \n",
      " 7   WindDirection(Degrees)  24514 non-null  float64\n",
      " 8   Speed                   24514 non-null  float64\n",
      " 9   TimeSunRise             24514 non-null  object \n",
      " 10  TimeSunSet              24514 non-null  object \n",
      "dtypes: float64(4), int64(3), object(4)\n",
      "memory usage: 2.1+ MB\n"
     ]
    }
   ],
   "source": [
    "train.info()"
   ]
  },
  {
   "cell_type": "code",
   "execution_count": 6,
   "metadata": {
    "scrolled": true
   },
   "outputs": [
    {
     "name": "stdout",
     "output_type": "stream",
     "text": [
      "dimensiones train: (24514, 11) \n",
      "dimensiones test:   (8172, 11)\n"
     ]
    }
   ],
   "source": [
    "print('dimensiones train:',train.shape,'\\ndimensiones test:  ',test.shape)"
   ]
  },
  {
   "cell_type": "code",
   "execution_count": 7,
   "metadata": {},
   "outputs": [
    {
     "data": {
      "image/png": "[encoded data removed]",
      "text/plain": [
       "<Figure size 576x576 with 1 Axes>"
      ]
     },
     "metadata": {
      "needs_background": "light"
     },
     "output_type": "display_data"
    }
   ],
   "source": [
    "plt.figure(figsize=(8, 8))\n",
    "train.boxplot(column=['Temperature'])\n",
    "plt.xticks(rotation=45)\n",
    "plt.show();"
   ]
  },
  {
   "cell_type": "code",
   "execution_count": 8,
   "metadata": {},
   "outputs": [
    {
     "data": {
      "image/png": "[encoded data removed]",
      "text/plain": [
       "<Figure size 576x576 with 1 Axes>"
      ]
     },
     "metadata": {
      "needs_background": "light"
     },
     "output_type": "display_data"
    }
   ],
   "source": [
    "plt.figure(figsize=(8, 8))\n",
    "train.boxplot(column=['Pressure'])\n",
    "plt.xticks(rotation=45)\n",
    "plt.show();"
   ]
  },
  {
   "cell_type": "code",
   "execution_count": 9,
   "metadata": {},
   "outputs": [
    {
     "data": {
      "image/png": "[encoded data removed]",
      "text/plain": [
       "<Figure size 576x576 with 1 Axes>"
      ]
     },
     "metadata": {
      "needs_background": "light"
     },
     "output_type": "display_data"
    }
   ],
   "source": [
    "plt.figure(figsize=(8, 8))\n",
    "train.boxplot(column=['Humidity'])\n",
    "plt.xticks(rotation=45)\n",
    "plt.show();"
   ]
  },
  {
   "cell_type": "code",
   "execution_count": 10,
   "metadata": {},
   "outputs": [
    {
     "data": {
      "image/png": "[encoded data removed]",
      "text/plain": [
       "<Figure size 576x576 with 1 Axes>"
      ]
     },
     "metadata": {
      "needs_background": "light"
     },
     "output_type": "display_data"
    }
   ],
   "source": [
    "plt.figure(figsize=(8, 8))\n",
    "train.boxplot(column=['WindDirection(Degrees)'])\n",
    "plt.xticks(rotation=45)\n",
    "plt.show();"
   ]
  },
  {
   "cell_type": "code",
   "execution_count": 11,
   "metadata": {},
   "outputs": [
    {
     "data": {
      "image/png": "[encoded data removed]",
      "text/plain": [
       "<Figure size 576x576 with 1 Axes>"
      ]
     },
     "metadata": {
      "needs_background": "light"
     },
     "output_type": "display_data"
    }
   ],
   "source": [
    "plt.figure(figsize=(8, 8))\n",
    "train.boxplot(column=['Speed'])\n",
    "plt.xticks(rotation=45)\n",
    "plt.show();"
   ]
  },
  {
   "cell_type": "code",
   "execution_count": 12,
   "metadata": {},
   "outputs": [
    {
     "data": {
      "image/png": "[encoded data removed]",
      "text/plain": [
       "<Figure size 576x576 with 1 Axes>"
      ]
     },
     "metadata": {
      "needs_background": "light"
     },
     "output_type": "display_data"
    }
   ],
   "source": [
    "plt.figure(figsize=(8, 8))\n",
    "train.boxplot(column=['Radiation'])\n",
    "plt.xticks(rotation=45)\n",
    "plt.show();"
   ]
  },
  {
   "cell_type": "code",
   "execution_count": 13,
   "metadata": {},
   "outputs": [],
   "source": [
    "q1=np.percentile(train['Pressure'], 25)\n",
    "q3=np.percentile(train['Pressure'], 75)\n",
    "iqr=q3-q1\n",
    "upper = q3 + iqr*1.5\n",
    "lower = q3 - iqr*1.5\n",
    "train = train[train['Pressure']<upper]\n",
    "train = train[train['Pressure']>lower]"
   ]
  },
  {
   "cell_type": "code",
   "execution_count": 14,
   "metadata": {},
   "outputs": [],
   "source": [
    "q1=np.percentile(train['Speed'], 25)\n",
    "q3=np.percentile(train['Speed'], 75)\n",
    "iqr=q3-q1\n",
    "upper = q3 + iqr*1.5\n",
    "lower = q3 - iqr*1.5\n",
    "train = train[train['Speed']<upper]"
   ]
  },
  {
   "cell_type": "code",
   "execution_count": 15,
   "metadata": {},
   "outputs": [],
   "source": [
    "q1=np.percentile(train['WindDirection(Degrees)'], 25)\n",
    "q3=np.percentile(train['WindDirection(Degrees)'], 75)\n",
    "iqr=q3-q1\n",
    "upper = q3 + iqr*1.5\n",
    "lower = q3 - iqr*1.5\n",
    "train = train[train['WindDirection(Degrees)']<upper]"
   ]
  },
  {
   "cell_type": "code",
   "execution_count": 16,
   "metadata": {},
   "outputs": [],
   "source": [
    "q1=np.percentile(train['Radiation'], 25)\n",
    "q3=np.percentile(train['Radiation'], 75)\n",
    "iqr=q3-q1\n",
    "upper = q3 + iqr*1.5\n",
    "lower = q3 - iqr*1.5\n",
    "train = train[train['Radiation']<upper]"
   ]
  },
  {
   "cell_type": "code",
   "execution_count": 17,
   "metadata": {},
   "outputs": [
    {
     "data": {
      "image/png": "[encoded data removed]",
      "text/plain": [
       "<Figure size 576x576 with 1 Axes>"
      ]
     },
     "metadata": {
      "needs_background": "light"
     },
     "output_type": "display_data"
    }
   ],
   "source": [
    "plt.figure(figsize=(8, 8))\n",
    "train.boxplot(column=['Temperature'])\n",
    "plt.xticks(rotation=45)\n",
    "plt.show();"
   ]
  },
  {
   "cell_type": "code",
   "execution_count": 18,
   "metadata": {},
   "outputs": [
    {
     "data": {
      "image/png": "[encoded data removed]",
      "text/plain": [
       "<Figure size 576x576 with 1 Axes>"
      ]
     },
     "metadata": {
      "needs_background": "light"
     },
     "output_type": "display_data"
    }
   ],
   "source": [
    "plt.figure(figsize=(8, 8))\n",
    "train.boxplot(column=['Pressure'])\n",
    "plt.xticks(rotation=45)\n",
    "plt.show();"
   ]
  },
  {
   "cell_type": "code",
   "execution_count": 19,
   "metadata": {},
   "outputs": [
    {
     "data": {
      "image/png": "[encoded data removed]",
      "text/plain": [
       "<Figure size 576x576 with 1 Axes>"
      ]
     },
     "metadata": {
      "needs_background": "light"
     },
     "output_type": "display_data"
    }
   ],
   "source": [
    "plt.figure(figsize=(8, 8))\n",
    "train.boxplot(column=['Humidity'])\n",
    "plt.xticks(rotation=45)\n",
    "plt.show();"
   ]
  },
  {
   "cell_type": "code",
   "execution_count": 20,
   "metadata": {},
   "outputs": [
    {
     "data": {
      "image/png": "[encoded data removed]",
      "text/plain": [
       "<Figure size 576x576 with 1 Axes>"
      ]
     },
     "metadata": {
      "needs_background": "light"
     },
     "output_type": "display_data"
    }
   ],
   "source": [
    "plt.figure(figsize=(8, 8))\n",
    "train.boxplot(column=['WindDirection(Degrees)'])\n",
    "plt.xticks(rotation=45)\n",
    "plt.show();"
   ]
  },
  {
   "cell_type": "code",
   "execution_count": 21,
   "metadata": {},
   "outputs": [
    {
     "data": {
      "image/png": "[encoded data removed]",
      "text/plain": [
       "<Figure size 576x576 with 1 Axes>"
      ]
     },
     "metadata": {
      "needs_background": "light"
     },
     "output_type": "display_data"
    }
   ],
   "source": [
    "plt.figure(figsize=(8, 8))\n",
    "train.boxplot(column=['Speed'])\n",
    "plt.xticks(rotation=45)\n",
    "plt.show();"
   ]
  },
  {
   "cell_type": "code",
   "execution_count": 22,
   "metadata": {},
   "outputs": [
    {
     "data": {
      "image/png": "[encoded data removed]",
      "text/plain": [
       "<Figure size 576x576 with 1 Axes>"
      ]
     },
     "metadata": {
      "needs_background": "light"
     },
     "output_type": "display_data"
    }
   ],
   "source": [
    "plt.figure(figsize=(8, 8))\n",
    "train.boxplot(column=['Radiation'])\n",
    "plt.xticks(rotation=45)\n",
    "plt.show();"
   ]
  },
  {
   "cell_type": "code",
   "execution_count": 23,
   "metadata": {},
   "outputs": [
    {
     "data": {
      "text/plain": [
       "(19186, 11)"
      ]
     },
     "execution_count": 23,
     "metadata": {},
     "output_type": "execute_result"
    }
   ],
   "source": [
    "train.shape"
   ]
  },
  {
   "cell_type": "code",
   "execution_count": 24,
   "metadata": {},
   "outputs": [
    {
     "data": {
      "text/html": [
       "<div>\n",
       "<style scoped>\n",
       "    .dataframe tbody tr th:only-of-type {\n",
       "        vertical-align: middle;\n",
       "    }\n",
       "\n",
       "    .dataframe tbody tr th {\n",
       "        vertical-align: top;\n",
       "    }\n",
       "\n",
       "    .dataframe thead th {\n",
       "        text-align: right;\n",
       "    }\n",
       "</style>\n",
       "<table border=\"1\" class=\"dataframe\">\n",
       "  <thead>\n",
       "    <tr style=\"text-align: right;\">\n",
       "      <th></th>\n",
       "      <th>id</th>\n",
       "      <th>UNIXTime</th>\n",
       "      <th>Data</th>\n",
       "      <th>Time</th>\n",
       "      <th>Temperature</th>\n",
       "      <th>Pressure</th>\n",
       "      <th>Humidity</th>\n",
       "      <th>WindDirection(Degrees)</th>\n",
       "      <th>Speed</th>\n",
       "      <th>TimeSunRise</th>\n",
       "      <th>TimeSunSet</th>\n",
       "    </tr>\n",
       "  </thead>\n",
       "  <tbody>\n",
       "    <tr>\n",
       "      <th>0</th>\n",
       "      <td>0</td>\n",
       "      <td>1478720107</td>\n",
       "      <td>11/9/2016 12:00:00 AM</td>\n",
       "      <td>09:35:07</td>\n",
       "      <td>59</td>\n",
       "      <td>30.47</td>\n",
       "      <td>44</td>\n",
       "      <td>312.67</td>\n",
       "      <td>3.37</td>\n",
       "      <td>06:28:00</td>\n",
       "      <td>17:45:00</td>\n",
       "    </tr>\n",
       "    <tr>\n",
       "      <th>1</th>\n",
       "      <td>1</td>\n",
       "      <td>1474063503</td>\n",
       "      <td>9/16/2016 12:00:00 AM</td>\n",
       "      <td>12:05:03</td>\n",
       "      <td>59</td>\n",
       "      <td>30.48</td>\n",
       "      <td>83</td>\n",
       "      <td>38.01</td>\n",
       "      <td>6.75</td>\n",
       "      <td>06:10:00</td>\n",
       "      <td>18:25:00</td>\n",
       "    </tr>\n",
       "    <tr>\n",
       "      <th>2</th>\n",
       "      <td>2</td>\n",
       "      <td>1476109221</td>\n",
       "      <td>10/10/2016 12:00:00 AM</td>\n",
       "      <td>04:20:21</td>\n",
       "      <td>47</td>\n",
       "      <td>30.39</td>\n",
       "      <td>78</td>\n",
       "      <td>213.62</td>\n",
       "      <td>5.62</td>\n",
       "      <td>06:16:00</td>\n",
       "      <td>18:03:00</td>\n",
       "    </tr>\n",
       "    <tr>\n",
       "      <th>3</th>\n",
       "      <td>3</td>\n",
       "      <td>1481475056</td>\n",
       "      <td>12/11/2016 12:00:00 AM</td>\n",
       "      <td>06:50:56</td>\n",
       "      <td>45</td>\n",
       "      <td>30.40</td>\n",
       "      <td>98</td>\n",
       "      <td>176.63</td>\n",
       "      <td>4.50</td>\n",
       "      <td>06:47:00</td>\n",
       "      <td>17:44:00</td>\n",
       "    </tr>\n",
       "    <tr>\n",
       "      <th>4</th>\n",
       "      <td>4</td>\n",
       "      <td>1477493117</td>\n",
       "      <td>10/26/2016 12:00:00 AM</td>\n",
       "      <td>04:45:17</td>\n",
       "      <td>45</td>\n",
       "      <td>30.40</td>\n",
       "      <td>34</td>\n",
       "      <td>175.89</td>\n",
       "      <td>6.75</td>\n",
       "      <td>06:21:00</td>\n",
       "      <td>17:52:00</td>\n",
       "    </tr>\n",
       "  </tbody>\n",
       "</table>\n",
       "</div>"
      ],
      "text/plain": [
       "   id    UNIXTime                    Data      Time  Temperature  Pressure  \\\n",
       "0   0  1478720107   11/9/2016 12:00:00 AM  09:35:07           59     30.47   \n",
       "1   1  1474063503   9/16/2016 12:00:00 AM  12:05:03           59     30.48   \n",
       "2   2  1476109221  10/10/2016 12:00:00 AM  04:20:21           47     30.39   \n",
       "3   3  1481475056  12/11/2016 12:00:00 AM  06:50:56           45     30.40   \n",
       "4   4  1477493117  10/26/2016 12:00:00 AM  04:45:17           45     30.40   \n",
       "\n",
       "   Humidity  WindDirection(Degrees)  Speed TimeSunRise TimeSunSet  \n",
       "0        44                  312.67   3.37    06:28:00   17:45:00  \n",
       "1        83                   38.01   6.75    06:10:00   18:25:00  \n",
       "2        78                  213.62   5.62    06:16:00   18:03:00  \n",
       "3        98                  176.63   4.50    06:47:00   17:44:00  \n",
       "4        34                  175.89   6.75    06:21:00   17:52:00  "
      ]
     },
     "execution_count": 24,
     "metadata": {},
     "output_type": "execute_result"
    }
   ],
   "source": [
    "test.head()"
   ]
  },
  {
   "cell_type": "code",
   "execution_count": 25,
   "metadata": {},
   "outputs": [],
   "source": [
    "train.Data = train.Data.str.replace(' 12:00:00 AM','')\n",
    "train['id']= [i for i in range(len(train))]\n",
    "train['type']='train'\n",
    "\n",
    "\n",
    "test.Data = test.Data.str.replace(' 12:00:00 AM','')\n",
    "test['type']='test'\n",
    "test['Radiation']= 0"
   ]
  },
  {
   "cell_type": "code",
   "execution_count": 26,
   "metadata": {},
   "outputs": [],
   "source": [
    "train = train[['id','UNIXTime','Data','Time','Temperature','Pressure','Humidity','WindDirection(Degrees)',\n",
    "              'Speed','TimeSunRise','TimeSunSet','Radiation','type']]"
   ]
  },
  {
   "cell_type": "code",
   "execution_count": 27,
   "metadata": {},
   "outputs": [],
   "source": [
    "test = test[['id','UNIXTime','Data','Time','Temperature','Pressure','Humidity','WindDirection(Degrees)',\n",
    "              'Speed','TimeSunRise','TimeSunSet','Radiation','type']]"
   ]
  },
  {
   "cell_type": "code",
   "execution_count": 28,
   "metadata": {},
   "outputs": [
    {
     "data": {
      "text/html": [
       "<div>\n",
       "<style scoped>\n",
       "    .dataframe tbody tr th:only-of-type {\n",
       "        vertical-align: middle;\n",
       "    }\n",
       "\n",
       "    .dataframe tbody tr th {\n",
       "        vertical-align: top;\n",
       "    }\n",
       "\n",
       "    .dataframe thead th {\n",
       "        text-align: right;\n",
       "    }\n",
       "</style>\n",
       "<table border=\"1\" class=\"dataframe\">\n",
       "  <thead>\n",
       "    <tr style=\"text-align: right;\">\n",
       "      <th></th>\n",
       "      <th>id</th>\n",
       "      <th>UNIXTime</th>\n",
       "      <th>Data</th>\n",
       "      <th>Time</th>\n",
       "      <th>Temperature</th>\n",
       "      <th>Pressure</th>\n",
       "      <th>Humidity</th>\n",
       "      <th>WindDirection(Degrees)</th>\n",
       "      <th>Speed</th>\n",
       "      <th>TimeSunRise</th>\n",
       "      <th>TimeSunSet</th>\n",
       "      <th>Radiation</th>\n",
       "      <th>type</th>\n",
       "    </tr>\n",
       "  </thead>\n",
       "  <tbody>\n",
       "    <tr>\n",
       "      <th>0</th>\n",
       "      <td>0</td>\n",
       "      <td>1478720107</td>\n",
       "      <td>11/9/2016</td>\n",
       "      <td>09:35:07</td>\n",
       "      <td>59</td>\n",
       "      <td>30.47</td>\n",
       "      <td>44</td>\n",
       "      <td>312.67</td>\n",
       "      <td>3.37</td>\n",
       "      <td>06:28:00</td>\n",
       "      <td>17:45:00</td>\n",
       "      <td>0</td>\n",
       "      <td>test</td>\n",
       "    </tr>\n",
       "  </tbody>\n",
       "</table>\n",
       "</div>"
      ],
      "text/plain": [
       "   id    UNIXTime       Data      Time  Temperature  Pressure  Humidity  \\\n",
       "0   0  1478720107  11/9/2016  09:35:07           59     30.47        44   \n",
       "\n",
       "   WindDirection(Degrees)  Speed TimeSunRise TimeSunSet  Radiation  type  \n",
       "0                  312.67   3.37    06:28:00   17:45:00          0  test  "
      ]
     },
     "execution_count": 28,
     "metadata": {},
     "output_type": "execute_result"
    }
   ],
   "source": [
    "test.head(1)"
   ]
  },
  {
   "cell_type": "code",
   "execution_count": 29,
   "metadata": {},
   "outputs": [
    {
     "data": {
      "text/html": [
       "<div>\n",
       "<style scoped>\n",
       "    .dataframe tbody tr th:only-of-type {\n",
       "        vertical-align: middle;\n",
       "    }\n",
       "\n",
       "    .dataframe tbody tr th {\n",
       "        vertical-align: top;\n",
       "    }\n",
       "\n",
       "    .dataframe thead th {\n",
       "        text-align: right;\n",
       "    }\n",
       "</style>\n",
       "<table border=\"1\" class=\"dataframe\">\n",
       "  <thead>\n",
       "    <tr style=\"text-align: right;\">\n",
       "      <th></th>\n",
       "      <th>id</th>\n",
       "      <th>UNIXTime</th>\n",
       "      <th>Data</th>\n",
       "      <th>Time</th>\n",
       "      <th>Temperature</th>\n",
       "      <th>Pressure</th>\n",
       "      <th>Humidity</th>\n",
       "      <th>WindDirection(Degrees)</th>\n",
       "      <th>Speed</th>\n",
       "      <th>TimeSunRise</th>\n",
       "      <th>TimeSunSet</th>\n",
       "      <th>Radiation</th>\n",
       "      <th>type</th>\n",
       "    </tr>\n",
       "  </thead>\n",
       "  <tbody>\n",
       "    <tr>\n",
       "      <th>0</th>\n",
       "      <td>0</td>\n",
       "      <td>1475175023</td>\n",
       "      <td>9/29/2016</td>\n",
       "      <td>08:50:23</td>\n",
       "      <td>61</td>\n",
       "      <td>30.46</td>\n",
       "      <td>41</td>\n",
       "      <td>14.96</td>\n",
       "      <td>6.75</td>\n",
       "      <td>06:13:00</td>\n",
       "      <td>18:13:00</td>\n",
       "      <td>634.99</td>\n",
       "      <td>train</td>\n",
       "    </tr>\n",
       "  </tbody>\n",
       "</table>\n",
       "</div>"
      ],
      "text/plain": [
       "   id    UNIXTime       Data      Time  Temperature  Pressure  Humidity  \\\n",
       "0   0  1475175023  9/29/2016  08:50:23           61     30.46        41   \n",
       "\n",
       "   WindDirection(Degrees)  Speed TimeSunRise TimeSunSet  Radiation   type  \n",
       "0                   14.96   6.75    06:13:00   18:13:00     634.99  train  "
      ]
     },
     "execution_count": 29,
     "metadata": {},
     "output_type": "execute_result"
    }
   ],
   "source": [
    "train.head(1)"
   ]
  },
  {
   "cell_type": "code",
   "execution_count": 30,
   "metadata": {},
   "outputs": [],
   "source": [
    "combinado = pd.concat([train,test], axis=0, join='outer', ignore_index=True)"
   ]
  },
  {
   "cell_type": "code",
   "execution_count": 31,
   "metadata": {},
   "outputs": [
    {
     "name": "stdout",
     "output_type": "stream",
     "text": [
      "dimensiones train: (19186, 13) \n",
      "dimensiones test:   (8172, 13)\n"
     ]
    }
   ],
   "source": [
    "print('dimensiones train:',train.shape,'\\ndimensiones test:  ',test.shape)"
   ]
  },
  {
   "cell_type": "code",
   "execution_count": 32,
   "metadata": {},
   "outputs": [
    {
     "data": {
      "text/plain": [
       "(27358, 13)"
      ]
     },
     "execution_count": 32,
     "metadata": {},
     "output_type": "execute_result"
    }
   ],
   "source": [
    "combinado.shape"
   ]
  },
  {
   "cell_type": "code",
   "execution_count": 33,
   "metadata": {},
   "outputs": [
    {
     "data": {
      "image/png": "[encoded data removed]",
      "text/plain": [
       "<Figure size 576x576 with 1 Axes>"
      ]
     },
     "metadata": {
      "needs_background": "light"
     },
     "output_type": "display_data"
    }
   ],
   "source": [
    "plt.figure(figsize=(8, 8))\n",
    "combinado.boxplot(column=['Temperature','Pressure','Humidity','WindDirection(Degrees)',\n",
    "              'Speed'])\n",
    "plt.xticks(rotation=45)\n",
    "plt.show();"
   ]
  },
  {
   "cell_type": "code",
   "execution_count": 34,
   "metadata": {},
   "outputs": [],
   "source": [
    "def minutos(hora):\n",
    "    minutos = hora.split(':')\n",
    "    minutos = int(minutos[0])*60 + int(minutos[1])\n",
    "    return int(minutos)"
   ]
  },
  {
   "cell_type": "code",
   "execution_count": 35,
   "metadata": {},
   "outputs": [],
   "source": [
    "combinado.TimeSunRise = combinado.TimeSunRise.apply(minutos)\n",
    "combinado.TimeSunSet = combinado.TimeSunSet.apply(minutos)"
   ]
  },
  {
   "cell_type": "code",
   "execution_count": 36,
   "metadata": {},
   "outputs": [
    {
     "name": "stdout",
     "output_type": "stream",
     "text": [
      "<class 'pandas.core.frame.DataFrame'>\n",
      "RangeIndex: 27358 entries, 0 to 27357\n",
      "Data columns (total 13 columns):\n",
      " #   Column                  Non-Null Count  Dtype  \n",
      "---  ------                  --------------  -----  \n",
      " 0   id                      27358 non-null  int64  \n",
      " 1   UNIXTime                27358 non-null  int64  \n",
      " 2   Data                    27358 non-null  object \n",
      " 3   Time                    27358 non-null  object \n",
      " 4   Temperature             27358 non-null  int64  \n",
      " 5   Pressure                27358 non-null  float64\n",
      " 6   Humidity                27358 non-null  int64  \n",
      " 7   WindDirection(Degrees)  27358 non-null  float64\n",
      " 8   Speed                   27358 non-null  float64\n",
      " 9   TimeSunRise             27358 non-null  int64  \n",
      " 10  TimeSunSet              27358 non-null  int64  \n",
      " 11  Radiation               27358 non-null  float64\n",
      " 12  type                    27358 non-null  object \n",
      "dtypes: float64(4), int64(6), object(3)\n",
      "memory usage: 2.7+ MB\n"
     ]
    }
   ],
   "source": [
    "combinado.info()"
   ]
  },
  {
   "cell_type": "code",
   "execution_count": 37,
   "metadata": {},
   "outputs": [
    {
     "data": {
      "image/png": "[encoded data removed]",
      "text/plain": [
       "<Figure size 576x576 with 1 Axes>"
      ]
     },
     "metadata": {
      "needs_background": "light"
     },
     "output_type": "display_data"
    }
   ],
   "source": [
    "plt.figure(figsize=(8, 8))\n",
    "combinado.boxplot(column=['TimeSunSet'])\n",
    "plt.xticks(rotation=45)\n",
    "plt.show();"
   ]
  },
  {
   "cell_type": "code",
   "execution_count": 38,
   "metadata": {},
   "outputs": [],
   "source": [
    "# normalizacion\n",
    "\n",
    "from sklearn.preprocessing import StandardScaler, MinMaxScaler, RobustScaler"
   ]
  },
  {
   "cell_type": "code",
   "execution_count": 39,
   "metadata": {},
   "outputs": [],
   "source": [
    "combinado.drop(columns=['Data','Time'],inplace=True)"
   ]
  },
  {
   "cell_type": "code",
   "execution_count": 40,
   "metadata": {},
   "outputs": [],
   "source": [
    "minmax = MinMaxScaler()\n",
    "combinado[['UNIXTime','Temperature','Pressure','Humidity','WindDirection(Degrees)','Speed','TimeSunRise','TimeSunSet']] = minmax.fit_transform(combinado[['UNIXTime','Temperature','Pressure','Humidity','WindDirection(Degrees)','Speed','TimeSunRise','TimeSunSet']])\n",
    "\n"
   ]
  },
  {
   "cell_type": "code",
   "execution_count": 41,
   "metadata": {},
   "outputs": [
    {
     "data": {
      "text/html": [
       "<div>\n",
       "<style scoped>\n",
       "    .dataframe tbody tr th:only-of-type {\n",
       "        vertical-align: middle;\n",
       "    }\n",
       "\n",
       "    .dataframe tbody tr th {\n",
       "        vertical-align: top;\n",
       "    }\n",
       "\n",
       "    .dataframe thead th {\n",
       "        text-align: right;\n",
       "    }\n",
       "</style>\n",
       "<table border=\"1\" class=\"dataframe\">\n",
       "  <thead>\n",
       "    <tr style=\"text-align: right;\">\n",
       "      <th></th>\n",
       "      <th>id</th>\n",
       "      <th>UNIXTime</th>\n",
       "      <th>Temperature</th>\n",
       "      <th>Pressure</th>\n",
       "      <th>Humidity</th>\n",
       "      <th>WindDirection(Degrees)</th>\n",
       "      <th>Speed</th>\n",
       "      <th>TimeSunRise</th>\n",
       "      <th>TimeSunSet</th>\n",
       "      <th>Radiation</th>\n",
       "      <th>type</th>\n",
       "    </tr>\n",
       "  </thead>\n",
       "  <tbody>\n",
       "    <tr>\n",
       "      <th>0</th>\n",
       "      <td>0</td>\n",
       "      <td>0.232613</td>\n",
       "      <td>0.722222</td>\n",
       "      <td>0.729730</td>\n",
       "      <td>0.347368</td>\n",
       "      <td>0.041323</td>\n",
       "      <td>0.166667</td>\n",
       "      <td>0.12</td>\n",
       "      <td>0.553571</td>\n",
       "      <td>634.99</td>\n",
       "      <td>train</td>\n",
       "    </tr>\n",
       "    <tr>\n",
       "      <th>1</th>\n",
       "      <td>1</td>\n",
       "      <td>0.532928</td>\n",
       "      <td>0.333333</td>\n",
       "      <td>0.810811</td>\n",
       "      <td>0.263158</td>\n",
       "      <td>0.467167</td>\n",
       "      <td>0.138765</td>\n",
       "      <td>0.36</td>\n",
       "      <td>0.089286</td>\n",
       "      <td>1.21</td>\n",
       "      <td>train</td>\n",
       "    </tr>\n",
       "    <tr>\n",
       "      <th>2</th>\n",
       "      <td>2</td>\n",
       "      <td>0.015488</td>\n",
       "      <td>0.527778</td>\n",
       "      <td>0.729730</td>\n",
       "      <td>0.978947</td>\n",
       "      <td>0.423815</td>\n",
       "      <td>0.083210</td>\n",
       "      <td>0.00</td>\n",
       "      <td>0.982143</td>\n",
       "      <td>1.67</td>\n",
       "      <td>train</td>\n",
       "    </tr>\n",
       "    <tr>\n",
       "      <th>3</th>\n",
       "      <td>3</td>\n",
       "      <td>0.569513</td>\n",
       "      <td>0.750000</td>\n",
       "      <td>0.756757</td>\n",
       "      <td>0.294737</td>\n",
       "      <td>0.811060</td>\n",
       "      <td>0.194321</td>\n",
       "      <td>0.42</td>\n",
       "      <td>0.053571</td>\n",
       "      <td>839.78</td>\n",
       "      <td>train</td>\n",
       "    </tr>\n",
       "    <tr>\n",
       "      <th>4</th>\n",
       "      <td>4</td>\n",
       "      <td>0.918007</td>\n",
       "      <td>0.305556</td>\n",
       "      <td>0.621622</td>\n",
       "      <td>0.915789</td>\n",
       "      <td>0.293678</td>\n",
       "      <td>0.055556</td>\n",
       "      <td>0.92</td>\n",
       "      <td>0.125000</td>\n",
       "      <td>1.23</td>\n",
       "      <td>train</td>\n",
       "    </tr>\n",
       "  </tbody>\n",
       "</table>\n",
       "</div>"
      ],
      "text/plain": [
       "   id  UNIXTime  Temperature  Pressure  Humidity  WindDirection(Degrees)  \\\n",
       "0   0  0.232613     0.722222  0.729730  0.347368                0.041323   \n",
       "1   1  0.532928     0.333333  0.810811  0.263158                0.467167   \n",
       "2   2  0.015488     0.527778  0.729730  0.978947                0.423815   \n",
       "3   3  0.569513     0.750000  0.756757  0.294737                0.811060   \n",
       "4   4  0.918007     0.305556  0.621622  0.915789                0.293678   \n",
       "\n",
       "      Speed  TimeSunRise  TimeSunSet  Radiation   type  \n",
       "0  0.166667         0.12    0.553571     634.99  train  \n",
       "1  0.138765         0.36    0.089286       1.21  train  \n",
       "2  0.083210         0.00    0.982143       1.67  train  \n",
       "3  0.194321         0.42    0.053571     839.78  train  \n",
       "4  0.055556         0.92    0.125000       1.23  train  "
      ]
     },
     "execution_count": 41,
     "metadata": {},
     "output_type": "execute_result"
    }
   ],
   "source": [
    "combinado.head()"
   ]
  },
  {
   "cell_type": "code",
   "execution_count": 42,
   "metadata": {},
   "outputs": [],
   "source": [
    "train_t = combinado[combinado.type=='test']"
   ]
  },
  {
   "cell_type": "code",
   "execution_count": 43,
   "metadata": {},
   "outputs": [
    {
     "data": {
      "text/html": [
       "<div>\n",
       "<style scoped>\n",
       "    .dataframe tbody tr th:only-of-type {\n",
       "        vertical-align: middle;\n",
       "    }\n",
       "\n",
       "    .dataframe tbody tr th {\n",
       "        vertical-align: top;\n",
       "    }\n",
       "\n",
       "    .dataframe thead th {\n",
       "        text-align: right;\n",
       "    }\n",
       "</style>\n",
       "<table border=\"1\" class=\"dataframe\">\n",
       "  <thead>\n",
       "    <tr style=\"text-align: right;\">\n",
       "      <th></th>\n",
       "      <th>id</th>\n",
       "      <th>UNIXTime</th>\n",
       "      <th>Temperature</th>\n",
       "      <th>Pressure</th>\n",
       "      <th>Humidity</th>\n",
       "      <th>WindDirection(Degrees)</th>\n",
       "      <th>Speed</th>\n",
       "      <th>TimeSunRise</th>\n",
       "      <th>TimeSunSet</th>\n",
       "      <th>Radiation</th>\n",
       "      <th>type</th>\n",
       "    </tr>\n",
       "  </thead>\n",
       "  <tbody>\n",
       "    <tr>\n",
       "      <th>0</th>\n",
       "      <td>0</td>\n",
       "      <td>0.232613</td>\n",
       "      <td>0.722222</td>\n",
       "      <td>0.729730</td>\n",
       "      <td>0.347368</td>\n",
       "      <td>0.041323</td>\n",
       "      <td>0.166667</td>\n",
       "      <td>0.12</td>\n",
       "      <td>0.553571</td>\n",
       "      <td>634.99</td>\n",
       "      <td>train</td>\n",
       "    </tr>\n",
       "    <tr>\n",
       "      <th>1</th>\n",
       "      <td>1</td>\n",
       "      <td>0.532928</td>\n",
       "      <td>0.333333</td>\n",
       "      <td>0.810811</td>\n",
       "      <td>0.263158</td>\n",
       "      <td>0.467167</td>\n",
       "      <td>0.138765</td>\n",
       "      <td>0.36</td>\n",
       "      <td>0.089286</td>\n",
       "      <td>1.21</td>\n",
       "      <td>train</td>\n",
       "    </tr>\n",
       "    <tr>\n",
       "      <th>2</th>\n",
       "      <td>2</td>\n",
       "      <td>0.015488</td>\n",
       "      <td>0.527778</td>\n",
       "      <td>0.729730</td>\n",
       "      <td>0.978947</td>\n",
       "      <td>0.423815</td>\n",
       "      <td>0.083210</td>\n",
       "      <td>0.00</td>\n",
       "      <td>0.982143</td>\n",
       "      <td>1.67</td>\n",
       "      <td>train</td>\n",
       "    </tr>\n",
       "    <tr>\n",
       "      <th>3</th>\n",
       "      <td>3</td>\n",
       "      <td>0.569513</td>\n",
       "      <td>0.750000</td>\n",
       "      <td>0.756757</td>\n",
       "      <td>0.294737</td>\n",
       "      <td>0.811060</td>\n",
       "      <td>0.194321</td>\n",
       "      <td>0.42</td>\n",
       "      <td>0.053571</td>\n",
       "      <td>839.78</td>\n",
       "      <td>train</td>\n",
       "    </tr>\n",
       "    <tr>\n",
       "      <th>4</th>\n",
       "      <td>4</td>\n",
       "      <td>0.918007</td>\n",
       "      <td>0.305556</td>\n",
       "      <td>0.621622</td>\n",
       "      <td>0.915789</td>\n",
       "      <td>0.293678</td>\n",
       "      <td>0.055556</td>\n",
       "      <td>0.92</td>\n",
       "      <td>0.125000</td>\n",
       "      <td>1.23</td>\n",
       "      <td>train</td>\n",
       "    </tr>\n",
       "  </tbody>\n",
       "</table>\n",
       "</div>"
      ],
      "text/plain": [
       "   id  UNIXTime  Temperature  Pressure  Humidity  WindDirection(Degrees)  \\\n",
       "0   0  0.232613     0.722222  0.729730  0.347368                0.041323   \n",
       "1   1  0.532928     0.333333  0.810811  0.263158                0.467167   \n",
       "2   2  0.015488     0.527778  0.729730  0.978947                0.423815   \n",
       "3   3  0.569513     0.750000  0.756757  0.294737                0.811060   \n",
       "4   4  0.918007     0.305556  0.621622  0.915789                0.293678   \n",
       "\n",
       "      Speed  TimeSunRise  TimeSunSet  Radiation   type  \n",
       "0  0.166667         0.12    0.553571     634.99  train  \n",
       "1  0.138765         0.36    0.089286       1.21  train  \n",
       "2  0.083210         0.00    0.982143       1.67  train  \n",
       "3  0.194321         0.42    0.053571     839.78  train  \n",
       "4  0.055556         0.92    0.125000       1.23  train  "
      ]
     },
     "execution_count": 43,
     "metadata": {},
     "output_type": "execute_result"
    }
   ],
   "source": [
    "train_n = combinado[combinado.type=='train']\n",
    "train_n.head()"
   ]
  },
  {
   "cell_type": "code",
   "execution_count": 44,
   "metadata": {},
   "outputs": [],
   "source": [
    "X_train = train_n.drop(columns=['id','type','Radiation'])\n",
    "y_train = train_n.Radiation"
   ]
  },
  {
   "cell_type": "code",
   "execution_count": 45,
   "metadata": {},
   "outputs": [],
   "source": [
    "from sklearn.model_selection import train_test_split as tts\n",
    "X_traintrain, X_testtrain, y_traintrain, y_testtrain = tts(X_train, y_train, test_size=0.1, random_state=42)"
   ]
  },
  {
   "cell_type": "code",
   "execution_count": 46,
   "metadata": {},
   "outputs": [],
   "source": [
    "from sklearn.linear_model import LinearRegression as LinReg\n",
    "from sklearn.metrics import r2_score"
   ]
  },
  {
   "cell_type": "code",
   "execution_count": 47,
   "metadata": {},
   "outputs": [],
   "source": [
    "from sklearn.metrics import mean_squared_error as mse"
   ]
  },
  {
   "cell_type": "code",
   "execution_count": 48,
   "metadata": {},
   "outputs": [
    {
     "name": "stdout",
     "output_type": "stream",
     "text": [
      "train R2: 0.5870408581832902 -- test R2: 0.6026306643434353\n"
     ]
    },
    {
     "data": {
      "text/plain": [
       "0.6026306643434353"
      ]
     },
     "execution_count": 48,
     "metadata": {},
     "output_type": "execute_result"
    }
   ],
   "source": [
    "linreg=LinReg()\n",
    "linreg.fit(X_traintrain, y_traintrain)\n",
    "train_score=linreg.score(X_traintrain, y_traintrain) #R2\n",
    "test_score=linreg.score(X_testtrain, y_testtrain)\n",
    "print ('train R2:',train_score, '-- test R2:', test_score)\n",
    "y_pred=linreg.predict(X_testtrain)\n",
    "r2_score(y_testtrain,y_pred)"
   ]
  },
  {
   "cell_type": "code",
   "execution_count": 49,
   "metadata": {},
   "outputs": [
    {
     "data": {
      "text/plain": [
       "27229.502674160205"
      ]
     },
     "execution_count": 49,
     "metadata": {},
     "output_type": "execute_result"
    }
   ],
   "source": [
    "mse(y_testtrain, y_pred)"
   ]
  },
  {
   "cell_type": "code",
   "execution_count": 50,
   "metadata": {},
   "outputs": [],
   "source": [
    "from sklearn.linear_model import SGDRegressor as SGDR"
   ]
  },
  {
   "cell_type": "code",
   "execution_count": 51,
   "metadata": {},
   "outputs": [
    {
     "name": "stdout",
     "output_type": "stream",
     "text": [
      "train R2: 0.5829766716639389 -- test R2: 0.5983901862917291\n"
     ]
    },
    {
     "data": {
      "text/plain": [
       "0.5983901862917291"
      ]
     },
     "execution_count": 51,
     "metadata": {},
     "output_type": "execute_result"
    }
   ],
   "source": [
    "sgdr=SGDR()\n",
    "sgdr.fit(X_traintrain, y_traintrain)\n",
    "train_score=sgdr.score(X_traintrain, y_traintrain) #R2\n",
    "test_score=sgdr.score(X_testtrain, y_testtrain)\n",
    "print ('train R2:',train_score, '-- test R2:', test_score)\n",
    "y_pred=sgdr.predict(X_testtrain)\n",
    "r2_score(y_testtrain,y_pred)"
   ]
  },
  {
   "cell_type": "code",
   "execution_count": 52,
   "metadata": {},
   "outputs": [
    {
     "data": {
      "text/plain": [
       "27520.078967013473"
      ]
     },
     "execution_count": 52,
     "metadata": {},
     "output_type": "execute_result"
    }
   ],
   "source": [
    "mse(y_testtrain, y_pred)"
   ]
  },
  {
   "cell_type": "code",
   "execution_count": 53,
   "metadata": {},
   "outputs": [],
   "source": [
    "from sklearn.linear_model import Lasso\n",
    "from sklearn.linear_model import Ridge\n",
    "from sklearn.linear_model import ElasticNet"
   ]
  },
  {
   "cell_type": "code",
   "execution_count": 54,
   "metadata": {},
   "outputs": [
    {
     "name": "stdout",
     "output_type": "stream",
     "text": [
      "train R2: 0.577617470494401 -- test R2: 0.59170100952633\n"
     ]
    },
    {
     "data": {
      "text/plain": [
       "27978.45091541864"
      ]
     },
     "execution_count": 54,
     "metadata": {},
     "output_type": "execute_result"
    }
   ],
   "source": [
    "lasso=Lasso()\n",
    "lasso.fit(X_traintrain, y_traintrain)\n",
    "train_score=lasso.score(X_traintrain, y_traintrain) #R2\n",
    "test_score=lasso.score(X_testtrain, y_testtrain)\n",
    "print ('train R2:',train_score, '-- test R2:', test_score)\n",
    "y_pred=lasso.predict(X_testtrain)\n",
    "mse(y_testtrain, y_pred)"
   ]
  },
  {
   "cell_type": "code",
   "execution_count": 55,
   "metadata": {},
   "outputs": [
    {
     "name": "stdout",
     "output_type": "stream",
     "text": [
      "train R2: 0.5865451757507312 -- test R2: 0.602252841548313\n"
     ]
    },
    {
     "data": {
      "text/plain": [
       "27255.392761509655"
      ]
     },
     "execution_count": 55,
     "metadata": {},
     "output_type": "execute_result"
    }
   ],
   "source": [
    "# Ridge L2\n",
    "\n",
    "ridge=Ridge()\n",
    "ridge.fit(X_traintrain, y_traintrain)\n",
    "train_score=ridge.score(X_traintrain, y_traintrain) #R2\n",
    "test_score=ridge.score(X_testtrain, y_testtrain)\n",
    "print ('train R2:',train_score, '-- test R2:', test_score)\n",
    "y_pred=ridge.predict(X_testtrain)\n",
    "mse(y_testtrain, y_pred)"
   ]
  },
  {
   "cell_type": "code",
   "execution_count": 56,
   "metadata": {},
   "outputs": [
    {
     "name": "stdout",
     "output_type": "stream",
     "text": [
      "train R2: 0.07101599726813634 -- test R2: 0.07224632260961072\n"
     ]
    },
    {
     "data": {
      "text/plain": [
       "63573.7812977523"
      ]
     },
     "execution_count": 56,
     "metadata": {},
     "output_type": "execute_result"
    }
   ],
   "source": [
    "# ElasticNet L1+L2\n",
    "elastic=ElasticNet()\n",
    "elastic.fit(X_traintrain, y_traintrain)\n",
    "train_score=elastic.score(X_traintrain, y_traintrain) #R2\n",
    "test_score=elastic.score(X_testtrain, y_testtrain)\n",
    "print ('train R2:',train_score, '-- test R2:', test_score)\n",
    "y_pred=elastic.predict(X_testtrain)\n",
    "mse(y_testtrain, y_pred)"
   ]
  },
  {
   "cell_type": "code",
   "execution_count": 57,
   "metadata": {},
   "outputs": [],
   "source": [
    "from sklearn.svm import SVR "
   ]
  },
  {
   "cell_type": "code",
   "execution_count": 58,
   "metadata": {},
   "outputs": [
    {
     "name": "stdout",
     "output_type": "stream",
     "text": [
      "train R2: 0.41207096520894193 -- test R2: 0.4324645343099872\n"
     ]
    },
    {
     "data": {
      "text/plain": [
       "38890.037791046794"
      ]
     },
     "execution_count": 58,
     "metadata": {},
     "output_type": "execute_result"
    }
   ],
   "source": [
    "svr=SVR()\n",
    "svr.fit(X_traintrain, y_traintrain)\n",
    "train_score=svr.score(X_traintrain, y_traintrain) #R2\n",
    "test_score=svr.score(X_testtrain, y_testtrain)\n",
    "print ('train R2:',train_score, '-- test R2:', test_score)\n",
    "y_pred=svr.predict(X_testtrain)\n",
    "mse(y_testtrain, y_pred)"
   ]
  },
  {
   "cell_type": "code",
   "execution_count": 59,
   "metadata": {},
   "outputs": [],
   "source": [
    "from sklearn.ensemble import RandomForestRegressor as RFR"
   ]
  },
  {
   "cell_type": "code",
   "execution_count": 60,
   "metadata": {},
   "outputs": [
    {
     "name": "stdout",
     "output_type": "stream",
     "text": [
      "train R2: 0.9842952271410442 -- test R2: 0.8825651667504563\n"
     ]
    },
    {
     "data": {
      "text/plain": [
       "8047.153665555322"
      ]
     },
     "execution_count": 60,
     "metadata": {},
     "output_type": "execute_result"
    }
   ],
   "source": [
    "rfr = RFR()\n",
    "rfr.fit(X_traintrain, y_traintrain)\n",
    "train_score=rfr.score(X_traintrain, y_traintrain) #R2\n",
    "test_score=rfr.score(X_testtrain, y_testtrain)\n",
    "print ('train R2:',train_score, '-- test R2:', test_score)\n",
    "y_pred=rfr.predict(X_testtrain)\n",
    "mse(y_testtrain, y_pred)"
   ]
  },
  {
   "cell_type": "code",
   "execution_count": 61,
   "metadata": {},
   "outputs": [],
   "source": [
    "from sklearn.tree import ExtraTreeRegressor as ETR"
   ]
  },
  {
   "cell_type": "code",
   "execution_count": 62,
   "metadata": {},
   "outputs": [
    {
     "name": "stdout",
     "output_type": "stream",
     "text": [
      "train R2: 1.0 -- test R2: 0.7648606301584768\n"
     ]
    },
    {
     "data": {
      "text/plain": [
       "16112.78859583116"
      ]
     },
     "execution_count": 62,
     "metadata": {},
     "output_type": "execute_result"
    }
   ],
   "source": [
    "etr = ETR()\n",
    "etr.fit(X_traintrain, y_traintrain)\n",
    "train_score=etr.score(X_traintrain, y_traintrain) #R2\n",
    "test_score=etr.score(X_testtrain, y_testtrain)\n",
    "print ('train R2:',train_score, '-- test R2:', test_score)\n",
    "y_pred=etr.predict(X_testtrain)\n",
    "mse(y_testtrain, y_pred)"
   ]
  },
  {
   "cell_type": "code",
   "execution_count": 63,
   "metadata": {},
   "outputs": [],
   "source": [
    "from sklearn.neighbors import KNeighborsRegressor as KNNR"
   ]
  },
  {
   "cell_type": "code",
   "execution_count": 64,
   "metadata": {},
   "outputs": [
    {
     "name": "stdout",
     "output_type": "stream",
     "text": [
      "train R2: 0.8590018369788015 -- test R2: 0.8077740188901823\n"
     ]
    },
    {
     "data": {
      "text/plain": [
       "13172.173585121925"
      ]
     },
     "execution_count": 64,
     "metadata": {},
     "output_type": "execute_result"
    }
   ],
   "source": [
    "knnr=KNNR(n_neighbors=7)\n",
    "knnr.fit(X_traintrain, y_traintrain)\n",
    "train_score=knnr.score(X_traintrain, y_traintrain) #R2\n",
    "test_score=knnr.score(X_testtrain, y_testtrain)\n",
    "print ('train R2:',train_score, '-- test R2:', test_score)\n",
    "y_pred=knnr.predict(X_testtrain)\n",
    "mse(y_testtrain, y_pred)"
   ]
  },
  {
   "cell_type": "code",
   "execution_count": 65,
   "metadata": {},
   "outputs": [],
   "source": [
    "from sklearn.ensemble import GradientBoostingRegressor as GBR"
   ]
  },
  {
   "cell_type": "code",
   "execution_count": 66,
   "metadata": {},
   "outputs": [
    {
     "name": "stdout",
     "output_type": "stream",
     "text": [
      "train R2: 0.7634562605499393 -- test R2: 0.7600908021488544\n"
     ]
    },
    {
     "data": {
      "text/plain": [
       "16439.638286758367"
      ]
     },
     "execution_count": 66,
     "metadata": {},
     "output_type": "execute_result"
    }
   ],
   "source": [
    "gbr=GBR()\n",
    "gbr.fit(X_traintrain, y_traintrain)\n",
    "train_score=gbr.score(X_traintrain, y_traintrain) #R2\n",
    "test_score=gbr.score(X_testtrain, y_testtrain)\n",
    "print ('train R2:',train_score, '-- test R2:', test_score)\n",
    "y_pred=gbr.predict(X_testtrain)\n",
    "mse(y_testtrain, y_pred)"
   ]
  },
  {
   "cell_type": "code",
   "execution_count": 67,
   "metadata": {},
   "outputs": [],
   "source": [
    "from mlxtend.regressor import StackingRegressor\n",
    "\n",
    "import warnings\n",
    "warnings.simplefilter('ignore')"
   ]
  },
  {
   "cell_type": "code",
   "execution_count": 68,
   "metadata": {},
   "outputs": [],
   "source": [
    "metamodelo=StackingRegressor(regressors=[etr, rfr, knnr, gbr], meta_regressor=linreg)"
   ]
  },
  {
   "cell_type": "code",
   "execution_count": 69,
   "metadata": {},
   "outputs": [
    {
     "data": {
      "text/plain": [
       "StackingRegressor(meta_regressor=LinearRegression(copy_X=True,\n",
       "                                                  fit_intercept=True,\n",
       "                                                  n_jobs=None,\n",
       "                                                  normalize=False),\n",
       "                  refit=True,\n",
       "                  regressors=[ExtraTreeRegressor(ccp_alpha=0.0, criterion='mse',\n",
       "                                                 max_depth=None,\n",
       "                                                 max_features='auto',\n",
       "                                                 max_leaf_nodes=None,\n",
       "                                                 min_impurity_decrease=0.0,\n",
       "                                                 min_impurity_split=None,\n",
       "                                                 min_samples_leaf=1,\n",
       "                                                 min_samples_split=2,\n",
       "                                                 min_weight_fraction_leaf...\n",
       "                                                        max_leaf_nodes=None,\n",
       "                                                        min_impurity_decrease=0.0,\n",
       "                                                        min_impurity_split=None,\n",
       "                                                        min_samples_leaf=1,\n",
       "                                                        min_samples_split=2,\n",
       "                                                        min_weight_fraction_leaf=0.0,\n",
       "                                                        n_estimators=100,\n",
       "                                                        n_iter_no_change=None,\n",
       "                                                        presort='deprecated',\n",
       "                                                        random_state=None,\n",
       "                                                        subsample=1.0,\n",
       "                                                        tol=0.0001,\n",
       "                                                        validation_fraction=0.1,\n",
       "                                                        verbose=0,\n",
       "                                                        warm_start=False)],\n",
       "                  store_train_meta_features=False,\n",
       "                  use_features_in_secondary=False, verbose=0)"
      ]
     },
     "execution_count": 69,
     "metadata": {},
     "output_type": "execute_result"
    }
   ],
   "source": [
    "metamodelo.fit(X_traintrain, y_traintrain)"
   ]
  },
  {
   "cell_type": "code",
   "execution_count": 70,
   "metadata": {},
   "outputs": [
    {
     "data": {
      "text/plain": [
       "0.8098196556167818"
      ]
     },
     "execution_count": 70,
     "metadata": {},
     "output_type": "execute_result"
    }
   ],
   "source": [
    "metamodelo.score(X_testtrain, y_testtrain)"
   ]
  },
  {
   "cell_type": "markdown",
   "metadata": {},
   "source": [
    "# Preparación para submit"
   ]
  },
  {
   "cell_type": "code",
   "execution_count": 71,
   "metadata": {},
   "outputs": [
    {
     "data": {
      "text/html": [
       "<div>\n",
       "<style scoped>\n",
       "    .dataframe tbody tr th:only-of-type {\n",
       "        vertical-align: middle;\n",
       "    }\n",
       "\n",
       "    .dataframe tbody tr th {\n",
       "        vertical-align: top;\n",
       "    }\n",
       "\n",
       "    .dataframe thead th {\n",
       "        text-align: right;\n",
       "    }\n",
       "</style>\n",
       "<table border=\"1\" class=\"dataframe\">\n",
       "  <thead>\n",
       "    <tr style=\"text-align: right;\">\n",
       "      <th></th>\n",
       "      <th>id</th>\n",
       "      <th>UNIXTime</th>\n",
       "      <th>Temperature</th>\n",
       "      <th>Pressure</th>\n",
       "      <th>Humidity</th>\n",
       "      <th>WindDirection(Degrees)</th>\n",
       "      <th>Speed</th>\n",
       "      <th>TimeSunRise</th>\n",
       "      <th>TimeSunSet</th>\n",
       "      <th>Radiation</th>\n",
       "      <th>type</th>\n",
       "    </tr>\n",
       "  </thead>\n",
       "  <tbody>\n",
       "    <tr>\n",
       "      <th>0</th>\n",
       "      <td>0</td>\n",
       "      <td>0.232613</td>\n",
       "      <td>0.722222</td>\n",
       "      <td>0.729730</td>\n",
       "      <td>0.347368</td>\n",
       "      <td>0.041323</td>\n",
       "      <td>0.166667</td>\n",
       "      <td>0.12</td>\n",
       "      <td>0.553571</td>\n",
       "      <td>634.99</td>\n",
       "      <td>train</td>\n",
       "    </tr>\n",
       "    <tr>\n",
       "      <th>1</th>\n",
       "      <td>1</td>\n",
       "      <td>0.532928</td>\n",
       "      <td>0.333333</td>\n",
       "      <td>0.810811</td>\n",
       "      <td>0.263158</td>\n",
       "      <td>0.467167</td>\n",
       "      <td>0.138765</td>\n",
       "      <td>0.36</td>\n",
       "      <td>0.089286</td>\n",
       "      <td>1.21</td>\n",
       "      <td>train</td>\n",
       "    </tr>\n",
       "    <tr>\n",
       "      <th>2</th>\n",
       "      <td>2</td>\n",
       "      <td>0.015488</td>\n",
       "      <td>0.527778</td>\n",
       "      <td>0.729730</td>\n",
       "      <td>0.978947</td>\n",
       "      <td>0.423815</td>\n",
       "      <td>0.083210</td>\n",
       "      <td>0.00</td>\n",
       "      <td>0.982143</td>\n",
       "      <td>1.67</td>\n",
       "      <td>train</td>\n",
       "    </tr>\n",
       "    <tr>\n",
       "      <th>3</th>\n",
       "      <td>3</td>\n",
       "      <td>0.569513</td>\n",
       "      <td>0.750000</td>\n",
       "      <td>0.756757</td>\n",
       "      <td>0.294737</td>\n",
       "      <td>0.811060</td>\n",
       "      <td>0.194321</td>\n",
       "      <td>0.42</td>\n",
       "      <td>0.053571</td>\n",
       "      <td>839.78</td>\n",
       "      <td>train</td>\n",
       "    </tr>\n",
       "    <tr>\n",
       "      <th>4</th>\n",
       "      <td>4</td>\n",
       "      <td>0.918007</td>\n",
       "      <td>0.305556</td>\n",
       "      <td>0.621622</td>\n",
       "      <td>0.915789</td>\n",
       "      <td>0.293678</td>\n",
       "      <td>0.055556</td>\n",
       "      <td>0.92</td>\n",
       "      <td>0.125000</td>\n",
       "      <td>1.23</td>\n",
       "      <td>train</td>\n",
       "    </tr>\n",
       "  </tbody>\n",
       "</table>\n",
       "</div>"
      ],
      "text/plain": [
       "   id  UNIXTime  Temperature  Pressure  Humidity  WindDirection(Degrees)  \\\n",
       "0   0  0.232613     0.722222  0.729730  0.347368                0.041323   \n",
       "1   1  0.532928     0.333333  0.810811  0.263158                0.467167   \n",
       "2   2  0.015488     0.527778  0.729730  0.978947                0.423815   \n",
       "3   3  0.569513     0.750000  0.756757  0.294737                0.811060   \n",
       "4   4  0.918007     0.305556  0.621622  0.915789                0.293678   \n",
       "\n",
       "      Speed  TimeSunRise  TimeSunSet  Radiation   type  \n",
       "0  0.166667         0.12    0.553571     634.99  train  \n",
       "1  0.138765         0.36    0.089286       1.21  train  \n",
       "2  0.083210         0.00    0.982143       1.67  train  \n",
       "3  0.194321         0.42    0.053571     839.78  train  \n",
       "4  0.055556         0.92    0.125000       1.23  train  "
      ]
     },
     "execution_count": 71,
     "metadata": {},
     "output_type": "execute_result"
    }
   ],
   "source": [
    "combinado.head()"
   ]
  },
  {
   "cell_type": "code",
   "execution_count": 72,
   "metadata": {},
   "outputs": [],
   "source": [
    "train_t = combinado[combinado.type=='test']\n",
    "train_n = combinado[combinado.type=='train']"
   ]
  },
  {
   "cell_type": "code",
   "execution_count": 73,
   "metadata": {},
   "outputs": [],
   "source": [
    "X_train = train_n.drop(columns=['id','type','Radiation'])\n",
    "y_train = train_n.Radiation"
   ]
  },
  {
   "cell_type": "code",
   "execution_count": 74,
   "metadata": {},
   "outputs": [],
   "source": [
    "X_test = train_t.drop(columns=['id','type','Radiation'])"
   ]
  },
  {
   "cell_type": "code",
   "execution_count": 75,
   "metadata": {},
   "outputs": [
    {
     "data": {
      "text/plain": [
       "(19186, 8)"
      ]
     },
     "execution_count": 75,
     "metadata": {},
     "output_type": "execute_result"
    }
   ],
   "source": [
    "X_train.shape"
   ]
  },
  {
   "cell_type": "code",
   "execution_count": 76,
   "metadata": {},
   "outputs": [
    {
     "data": {
      "text/plain": [
       "(19186,)"
      ]
     },
     "execution_count": 76,
     "metadata": {},
     "output_type": "execute_result"
    }
   ],
   "source": [
    "y_train.shape"
   ]
  },
  {
   "cell_type": "code",
   "execution_count": 77,
   "metadata": {},
   "outputs": [
    {
     "name": "stdout",
     "output_type": "stream",
     "text": [
      "train R2: 0.9999999999993786\n"
     ]
    }
   ],
   "source": [
    "#no usar etr, es una mierda\n",
    "#etr = ETR()\n",
    "etr.fit(X_train, y_train)\n",
    "train_score=etr.score(X_train, y_train) #R2\n",
    "print ('train R2:',train_score)\n",
    "y_pred=etr.predict(X_test)"
   ]
  },
  {
   "cell_type": "code",
   "execution_count": 78,
   "metadata": {},
   "outputs": [
    {
     "data": {
      "text/plain": [
       "(8172,)"
      ]
     },
     "execution_count": 78,
     "metadata": {},
     "output_type": "execute_result"
    }
   ],
   "source": [
    "y_pred.shape"
   ]
  },
  {
   "cell_type": "code",
   "execution_count": 79,
   "metadata": {},
   "outputs": [
    {
     "data": {
      "text/plain": [
       "(8172, 11)"
      ]
     },
     "execution_count": 79,
     "metadata": {},
     "output_type": "execute_result"
    }
   ],
   "source": [
    "train_t.shape"
   ]
  },
  {
   "cell_type": "code",
   "execution_count": 80,
   "metadata": {},
   "outputs": [
    {
     "data": {
      "text/html": [
       "<div>\n",
       "<style scoped>\n",
       "    .dataframe tbody tr th:only-of-type {\n",
       "        vertical-align: middle;\n",
       "    }\n",
       "\n",
       "    .dataframe tbody tr th {\n",
       "        vertical-align: top;\n",
       "    }\n",
       "\n",
       "    .dataframe thead th {\n",
       "        text-align: right;\n",
       "    }\n",
       "</style>\n",
       "<table border=\"1\" class=\"dataframe\">\n",
       "  <thead>\n",
       "    <tr style=\"text-align: right;\">\n",
       "      <th></th>\n",
       "      <th>Radiation</th>\n",
       "    </tr>\n",
       "  </thead>\n",
       "  <tbody>\n",
       "    <tr>\n",
       "      <th>0</th>\n",
       "      <td>754.09</td>\n",
       "    </tr>\n",
       "    <tr>\n",
       "      <th>1</th>\n",
       "      <td>492.82</td>\n",
       "    </tr>\n",
       "    <tr>\n",
       "      <th>2</th>\n",
       "      <td>1.24</td>\n",
       "    </tr>\n",
       "    <tr>\n",
       "      <th>3</th>\n",
       "      <td>7.13</td>\n",
       "    </tr>\n",
       "    <tr>\n",
       "      <th>4</th>\n",
       "      <td>1.22</td>\n",
       "    </tr>\n",
       "  </tbody>\n",
       "</table>\n",
       "</div>"
      ],
      "text/plain": [
       "   Radiation\n",
       "0     754.09\n",
       "1     492.82\n",
       "2       1.24\n",
       "3       7.13\n",
       "4       1.22"
      ]
     },
     "execution_count": 80,
     "metadata": {},
     "output_type": "execute_result"
    }
   ],
   "source": [
    "final = pd.DataFrame(y_pred,columns=['Radiation'])\n",
    "final.head()"
   ]
  },
  {
   "cell_type": "code",
   "execution_count": 81,
   "metadata": {},
   "outputs": [
    {
     "data": {
      "text/html": [
       "<div>\n",
       "<style scoped>\n",
       "    .dataframe tbody tr th:only-of-type {\n",
       "        vertical-align: middle;\n",
       "    }\n",
       "\n",
       "    .dataframe tbody tr th {\n",
       "        vertical-align: top;\n",
       "    }\n",
       "\n",
       "    .dataframe thead th {\n",
       "        text-align: right;\n",
       "    }\n",
       "</style>\n",
       "<table border=\"1\" class=\"dataframe\">\n",
       "  <thead>\n",
       "    <tr style=\"text-align: right;\">\n",
       "      <th></th>\n",
       "      <th>Radiation</th>\n",
       "      <th>id</th>\n",
       "    </tr>\n",
       "  </thead>\n",
       "  <tbody>\n",
       "    <tr>\n",
       "      <th>0</th>\n",
       "      <td>754.09</td>\n",
       "      <td>0</td>\n",
       "    </tr>\n",
       "    <tr>\n",
       "      <th>1</th>\n",
       "      <td>492.82</td>\n",
       "      <td>1</td>\n",
       "    </tr>\n",
       "    <tr>\n",
       "      <th>2</th>\n",
       "      <td>1.24</td>\n",
       "      <td>2</td>\n",
       "    </tr>\n",
       "    <tr>\n",
       "      <th>3</th>\n",
       "      <td>7.13</td>\n",
       "      <td>3</td>\n",
       "    </tr>\n",
       "    <tr>\n",
       "      <th>4</th>\n",
       "      <td>1.22</td>\n",
       "      <td>4</td>\n",
       "    </tr>\n",
       "  </tbody>\n",
       "</table>\n",
       "</div>"
      ],
      "text/plain": [
       "   Radiation  id\n",
       "0     754.09   0\n",
       "1     492.82   1\n",
       "2       1.24   2\n",
       "3       7.13   3\n",
       "4       1.22   4"
      ]
     },
     "execution_count": 81,
     "metadata": {},
     "output_type": "execute_result"
    }
   ],
   "source": [
    "final['id'] = [i for i in range(len(final))]\n",
    "final.head()"
   ]
  },
  {
   "cell_type": "code",
   "execution_count": 82,
   "metadata": {},
   "outputs": [],
   "source": [
    "final = final[['id','Radiation']]"
   ]
  },
  {
   "cell_type": "code",
   "execution_count": 83,
   "metadata": {},
   "outputs": [
    {
     "data": {
      "text/html": [
       "<div>\n",
       "<style scoped>\n",
       "    .dataframe tbody tr th:only-of-type {\n",
       "        vertical-align: middle;\n",
       "    }\n",
       "\n",
       "    .dataframe tbody tr th {\n",
       "        vertical-align: top;\n",
       "    }\n",
       "\n",
       "    .dataframe thead th {\n",
       "        text-align: right;\n",
       "    }\n",
       "</style>\n",
       "<table border=\"1\" class=\"dataframe\">\n",
       "  <thead>\n",
       "    <tr style=\"text-align: right;\">\n",
       "      <th></th>\n",
       "      <th>id</th>\n",
       "      <th>Radiation</th>\n",
       "    </tr>\n",
       "  </thead>\n",
       "  <tbody>\n",
       "    <tr>\n",
       "      <th>0</th>\n",
       "      <td>0</td>\n",
       "      <td>754.09</td>\n",
       "    </tr>\n",
       "    <tr>\n",
       "      <th>1</th>\n",
       "      <td>1</td>\n",
       "      <td>492.82</td>\n",
       "    </tr>\n",
       "    <tr>\n",
       "      <th>2</th>\n",
       "      <td>2</td>\n",
       "      <td>1.24</td>\n",
       "    </tr>\n",
       "    <tr>\n",
       "      <th>3</th>\n",
       "      <td>3</td>\n",
       "      <td>7.13</td>\n",
       "    </tr>\n",
       "    <tr>\n",
       "      <th>4</th>\n",
       "      <td>4</td>\n",
       "      <td>1.22</td>\n",
       "    </tr>\n",
       "  </tbody>\n",
       "</table>\n",
       "</div>"
      ],
      "text/plain": [
       "   id  Radiation\n",
       "0   0     754.09\n",
       "1   1     492.82\n",
       "2   2       1.24\n",
       "3   3       7.13\n",
       "4   4       1.22"
      ]
     },
     "execution_count": 83,
     "metadata": {},
     "output_type": "execute_result"
    }
   ],
   "source": [
    "final.head()"
   ]
  },
  {
   "cell_type": "code",
   "execution_count": 84,
   "metadata": {},
   "outputs": [
    {
     "data": {
      "text/html": [
       "<div>\n",
       "<style scoped>\n",
       "    .dataframe tbody tr th:only-of-type {\n",
       "        vertical-align: middle;\n",
       "    }\n",
       "\n",
       "    .dataframe tbody tr th {\n",
       "        vertical-align: top;\n",
       "    }\n",
       "\n",
       "    .dataframe thead th {\n",
       "        text-align: right;\n",
       "    }\n",
       "</style>\n",
       "<table border=\"1\" class=\"dataframe\">\n",
       "  <thead>\n",
       "    <tr style=\"text-align: right;\">\n",
       "      <th></th>\n",
       "      <th>id</th>\n",
       "      <th>Radiation</th>\n",
       "    </tr>\n",
       "  </thead>\n",
       "  <tbody>\n",
       "    <tr>\n",
       "      <th>0</th>\n",
       "      <td>0</td>\n",
       "      <td>1041.317337</td>\n",
       "    </tr>\n",
       "    <tr>\n",
       "      <th>1</th>\n",
       "      <td>1</td>\n",
       "      <td>1064.230693</td>\n",
       "    </tr>\n",
       "    <tr>\n",
       "      <th>2</th>\n",
       "      <td>2</td>\n",
       "      <td>610.828947</td>\n",
       "    </tr>\n",
       "    <tr>\n",
       "      <th>3</th>\n",
       "      <td>3</td>\n",
       "      <td>602.742249</td>\n",
       "    </tr>\n",
       "    <tr>\n",
       "      <th>4</th>\n",
       "      <td>4</td>\n",
       "      <td>562.312327</td>\n",
       "    </tr>\n",
       "  </tbody>\n",
       "</table>\n",
       "</div>"
      ],
      "text/plain": [
       "   id    Radiation\n",
       "0   0  1041.317337\n",
       "1   1  1064.230693\n",
       "2   2   610.828947\n",
       "3   3   602.742249\n",
       "4   4   562.312327"
      ]
     },
     "execution_count": 84,
     "metadata": {},
     "output_type": "execute_result"
    }
   ],
   "source": [
    "ejemplo.head()"
   ]
  },
  {
   "cell_type": "code",
   "execution_count": 85,
   "metadata": {},
   "outputs": [
    {
     "data": {
      "text/plain": [
       "True"
      ]
     },
     "execution_count": 85,
     "metadata": {},
     "output_type": "execute_result"
    }
   ],
   "source": [
    "ejemplo.shape == final.shape"
   ]
  },
  {
   "cell_type": "code",
   "execution_count": 87,
   "metadata": {},
   "outputs": [],
   "source": [
    "#final.to_csv('final_ec_v3.csv',index=False)"
   ]
  },
  {
   "cell_type": "code",
   "execution_count": null,
   "metadata": {},
   "outputs": [],
   "source": []
  }
 ],
 "metadata": {
  "kernelspec": {
   "display_name": "Python 3",
   "language": "python",
   "name": "python3"
  },
  "language_info": {
   "codemirror_mode": {
    "name": "ipython",
    "version": 3
   },
   "file_extension": ".py",
   "mimetype": "text/x-python",
   "name": "python",
   "nbconvert_exporter": "python",
   "pygments_lexer": "ipython3",
   "version": "3.8.0"
  }
 },
 "nbformat": 4,
 "nbformat_minor": 4
}
